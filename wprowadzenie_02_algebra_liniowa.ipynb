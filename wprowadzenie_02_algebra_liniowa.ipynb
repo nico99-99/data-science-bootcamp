{
  "nbformat": 4,
  "nbformat_minor": 0,
  "metadata": {
    "colab": {
      "provenance": [],
      "collapsed_sections": [],
      "authorship_tag": "ABX9TyP3bfdTXGtfi9ZWyppF/Znz",
      "include_colab_link": true
    },
    "kernelspec": {
      "name": "python3",
      "display_name": "Python 3"
    },
    "language_info": {
      "name": "python"
    }
  },
  "cells": [
    {
      "cell_type": "markdown",
      "metadata": {
        "id": "view-in-github",
        "colab_type": "text"
      },
      "source": [
        "<a href=\"https://colab.research.google.com/github/nico99-99/data-science-bootcamp/blob/main/wprowadzenie_02_algebra_liniowa.ipynb\" target=\"_parent\"><img src=\"https://colab.research.google.com/assets/colab-badge.svg\" alt=\"Open In Colab\"/></a>"
      ]
    },
    {
      "cell_type": "code",
      "execution_count": 1,
      "metadata": {
        "id": "N4EY7Tjln7M5"
      },
      "outputs": [],
      "source": [
        "import numpy as np"
      ]
    },
    {
      "cell_type": "markdown",
      "source": [
        "Norma wektora, dlugość wektora w R^2"
      ],
      "metadata": {
        "id": "ojB5NRFIoHG5"
      }
    },
    {
      "cell_type": "code",
      "source": [
        "v1 = np.array([0, 4])\n",
        "v1"
      ],
      "metadata": {
        "colab": {
          "base_uri": "https://localhost:8080/"
        },
        "id": "fPiFTmfFoFKO",
        "outputId": "320364b7-0359-4e78-9f3f-33d6c9d13efc"
      },
      "execution_count": null,
      "outputs": [
        {
          "output_type": "execute_result",
          "data": {
            "text/plain": [
              "array([0, 4])"
            ]
          },
          "metadata": {},
          "execution_count": 2
        }
      ]
    },
    {
      "cell_type": "code",
      "source": [
        "np.linalg.norm(v1)"
      ],
      "metadata": {
        "colab": {
          "base_uri": "https://localhost:8080/"
        },
        "id": "Iqc0TtfoomXx",
        "outputId": "99b1a23b-3b2d-4598-85f3-bbc3aaffa546"
      },
      "execution_count": null,
      "outputs": [
        {
          "output_type": "execute_result",
          "data": {
            "text/plain": [
              "4.0"
            ]
          },
          "metadata": {},
          "execution_count": 4
        }
      ]
    },
    {
      "cell_type": "markdown",
      "source": [
        "Norma euklidesowa"
      ],
      "metadata": {
        "id": "9H95vLuMpNSz"
      }
    },
    {
      "cell_type": "code",
      "source": [
        "v2 = np.array([-10, 10, 13])\n",
        "np.linalg.norm(v2)"
      ],
      "metadata": {
        "colab": {
          "base_uri": "https://localhost:8080/"
        },
        "id": "Jj09aYdgov0H",
        "outputId": "84866c05-cdcc-4ca9-c286-f7b30acc9126"
      },
      "execution_count": null,
      "outputs": [
        {
          "output_type": "execute_result",
          "data": {
            "text/plain": [
              "19.209372712298546"
            ]
          },
          "metadata": {},
          "execution_count": 5
        }
      ]
    },
    {
      "cell_type": "markdown",
      "source": [
        "Odległość dwóch punktów na płaszczyźnie"
      ],
      "metadata": {
        "id": "kIcwVgRzpake"
      }
    },
    {
      "cell_type": "code",
      "source": [
        "p = np.array([3, 0, 1])\n",
        "q = np.array([0, 4, 2])\n",
        "np.linalg.norm(p - q)"
      ],
      "metadata": {
        "colab": {
          "base_uri": "https://localhost:8080/"
        },
        "id": "h1F34DGtpB18",
        "outputId": "4d15defd-72e0-4870-c16f-1de1343f9c6a"
      },
      "execution_count": null,
      "outputs": [
        {
          "output_type": "execute_result",
          "data": {
            "text/plain": [
              "5.0990195135927845"
            ]
          },
          "metadata": {},
          "execution_count": 9
        }
      ]
    },
    {
      "cell_type": "markdown",
      "source": [
        "Mnoenie macierzy"
      ],
      "metadata": {
        "id": "2Qw2PHgop-xx"
      }
    },
    {
      "cell_type": "code",
      "source": [
        "X = np.array([[5, 3], [3,9]])\n",
        "Y = np.array([[1], [-1]])\n",
        "print(X)\n",
        "print(Y)"
      ],
      "metadata": {
        "colab": {
          "base_uri": "https://localhost:8080/"
        },
        "id": "NjtzZXuwpumA",
        "outputId": "4d47862e-565b-4739-efb8-af7ec2e8e321"
      },
      "execution_count": null,
      "outputs": [
        {
          "output_type": "stream",
          "name": "stdout",
          "text": [
            "[[5 3]\n",
            " [3 9]]\n",
            "[[ 1]\n",
            " [-1]]\n"
          ]
        }
      ]
    },
    {
      "cell_type": "code",
      "source": [
        "Z = np.dot(X, Y)\n",
        "Z"
      ],
      "metadata": {
        "colab": {
          "base_uri": "https://localhost:8080/"
        },
        "id": "3dp_toCmq9-S",
        "outputId": "da03146c-3383-4b7d-f24b-ba6f671f0c2e"
      },
      "execution_count": null,
      "outputs": [
        {
          "output_type": "execute_result",
          "data": {
            "text/plain": [
              "array([[ 2],\n",
              "       [-6]])"
            ]
          },
          "metadata": {},
          "execution_count": 12
        }
      ]
    },
    {
      "cell_type": "code",
      "source": [
        "Z.shape"
      ],
      "metadata": {
        "colab": {
          "base_uri": "https://localhost:8080/"
        },
        "id": "eAegKI57rE0R",
        "outputId": "3695ab50-cf7e-45d4-fd81-871e84c8e2d4"
      },
      "execution_count": null,
      "outputs": [
        {
          "output_type": "execute_result",
          "data": {
            "text/plain": [
              "(2, 1)"
            ]
          },
          "metadata": {},
          "execution_count": 13
        }
      ]
    },
    {
      "cell_type": "code",
      "source": [
        "X = np.array([[2, -1, 3],\n",
        "              [3,1, 0]])\n",
        "Y = np.array([[2, 1, -1],\n",
        "              [0, -1, 2],\n",
        "              [3, 2, 0]])\n",
        "print(X, '\\n')\n",
        "print(Y)"
      ],
      "metadata": {
        "colab": {
          "base_uri": "https://localhost:8080/"
        },
        "id": "9BwzCvvirKce",
        "outputId": "62b7024a-b129-44e9-c305-537998e4da66"
      },
      "execution_count": null,
      "outputs": [
        {
          "output_type": "stream",
          "name": "stdout",
          "text": [
            "[[ 2 -1  3]\n",
            " [ 3  1  0]] \n",
            "\n",
            "[[ 2  1 -1]\n",
            " [ 0 -1  2]\n",
            " [ 3  2  0]]\n"
          ]
        }
      ]
    },
    {
      "cell_type": "code",
      "source": [
        "np.dot(X,Y)"
      ],
      "metadata": {
        "colab": {
          "base_uri": "https://localhost:8080/"
        },
        "id": "3Hr1H8zFr8t8",
        "outputId": "7db2c4bb-2ccd-4215-cb50-cc8dfc2dab6a"
      },
      "execution_count": null,
      "outputs": [
        {
          "output_type": "execute_result",
          "data": {
            "text/plain": [
              "array([[13,  9, -4],\n",
              "       [ 6,  2, -1]])"
            ]
          },
          "metadata": {},
          "execution_count": 15
        }
      ]
    },
    {
      "cell_type": "markdown",
      "source": [
        "Wyznacznik macierzy"
      ],
      "metadata": {
        "id": "0N9yFrVdsJS1"
      }
    },
    {
      "cell_type": "code",
      "source": [
        "A = np.array([[2, 4], [-1, 3]])\n",
        "round(np.linalg.det(A))"
      ],
      "metadata": {
        "colab": {
          "base_uri": "https://localhost:8080/"
        },
        "id": "SOHO2N4IsEol",
        "outputId": "924fe009-1f9e-45b0-e4b0-57b1ac943490"
      },
      "execution_count": null,
      "outputs": [
        {
          "output_type": "execute_result",
          "data": {
            "text/plain": [
              "10"
            ]
          },
          "metadata": {},
          "execution_count": 17
        }
      ]
    },
    {
      "cell_type": "markdown",
      "source": [
        "Ślad macierzy (suma elementów na przekątnej)"
      ],
      "metadata": {
        "id": "ZERxeJXgs8cn"
      }
    },
    {
      "cell_type": "code",
      "source": [
        "A = np.array([[2, 4], [-1, 3]])\n",
        "np.trace(A)"
      ],
      "metadata": {
        "colab": {
          "base_uri": "https://localhost:8080/"
        },
        "id": "zKp_JktJs3e9",
        "outputId": "7493f024-0c06-4115-dbc7-36341b825404"
      },
      "execution_count": null,
      "outputs": [
        {
          "output_type": "execute_result",
          "data": {
            "text/plain": [
              "5"
            ]
          },
          "metadata": {},
          "execution_count": 18
        }
      ]
    },
    {
      "cell_type": "markdown",
      "source": [
        "Macierz jednostkowa"
      ],
      "metadata": {
        "id": "KOUgR0rjtIXN"
      }
    },
    {
      "cell_type": "code",
      "source": [
        "np.eye(5, dtype = 'int')"
      ],
      "metadata": {
        "colab": {
          "base_uri": "https://localhost:8080/"
        },
        "id": "7K5Y9lz-tGxR",
        "outputId": "59f32aa6-7a50-4ee4-8179-53b794e7b831"
      },
      "execution_count": null,
      "outputs": [
        {
          "output_type": "execute_result",
          "data": {
            "text/plain": [
              "array([[1, 0, 0, 0, 0],\n",
              "       [0, 1, 0, 0, 0],\n",
              "       [0, 0, 1, 0, 0],\n",
              "       [0, 0, 0, 1, 0],\n",
              "       [0, 0, 0, 0, 1]])"
            ]
          },
          "metadata": {},
          "execution_count": 19
        }
      ]
    },
    {
      "cell_type": "markdown",
      "source": [
        "Macierz odwrotna"
      ],
      "metadata": {
        "id": "UTrt93cltWaq"
      }
    },
    {
      "cell_type": "code",
      "source": [
        "B = np.linalg.inv(A)\n",
        "B"
      ],
      "metadata": {
        "colab": {
          "base_uri": "https://localhost:8080/"
        },
        "id": "a9ur_m9ktTya",
        "outputId": "29d8f59e-3bdc-4047-ee0a-9a6c41d7826e"
      },
      "execution_count": null,
      "outputs": [
        {
          "output_type": "execute_result",
          "data": {
            "text/plain": [
              "array([[ 0.3, -0.4],\n",
              "       [ 0.1,  0.2]])"
            ]
          },
          "metadata": {},
          "execution_count": 21
        }
      ]
    },
    {
      "cell_type": "code",
      "source": [
        "np.set_printoptions(precision = 4, suppress = True)\n",
        "np.dot(B, A)"
      ],
      "metadata": {
        "colab": {
          "base_uri": "https://localhost:8080/"
        },
        "id": "eJiT8mr-tpN3",
        "outputId": "0edfb895-b35c-4351-cf33-fa45b7b5abba"
      },
      "execution_count": null,
      "outputs": [
        {
          "output_type": "execute_result",
          "data": {
            "text/plain": [
              "array([[ 1., -0.],\n",
              "       [ 0.,  1.]])"
            ]
          },
          "metadata": {},
          "execution_count": 22
        }
      ]
    },
    {
      "cell_type": "markdown",
      "source": [
        "Macierz transponowana"
      ],
      "metadata": {
        "id": "o01YlE9suHHj"
      }
    },
    {
      "cell_type": "code",
      "source": [
        "np.transpose(A)"
      ],
      "metadata": {
        "colab": {
          "base_uri": "https://localhost:8080/"
        },
        "id": "tc4R2OITuFXK",
        "outputId": "c738921c-1d79-476f-c723-26fbc898a8dc"
      },
      "execution_count": null,
      "outputs": [
        {
          "output_type": "execute_result",
          "data": {
            "text/plain": [
              "array([[ 2, -1],\n",
              "       [ 4,  3]])"
            ]
          },
          "metadata": {},
          "execution_count": 23
        }
      ]
    },
    {
      "cell_type": "code",
      "source": [
        "A.T"
      ],
      "metadata": {
        "colab": {
          "base_uri": "https://localhost:8080/"
        },
        "id": "gOBO-kxLuYXT",
        "outputId": "e69beebe-026e-407b-9641-8fa8d81916e1"
      },
      "execution_count": null,
      "outputs": [
        {
          "output_type": "execute_result",
          "data": {
            "text/plain": [
              "array([[ 2, -1],\n",
              "       [ 4,  3]])"
            ]
          },
          "metadata": {},
          "execution_count": 24
        }
      ]
    },
    {
      "cell_type": "markdown",
      "source": [
        "Rozwiązywanie układów równań"
      ],
      "metadata": {
        "id": "3Hqkp3diJTMa"
      }
    },
    {
      "cell_type": "markdown",
      "source": [
        "X = A^-1*B"
      ],
      "metadata": {
        "id": "RjMBKxRjKw3p"
      }
    },
    {
      "cell_type": "code",
      "source": [
        "A = np.array([[2, 4], [1, -1]])\n",
        "print(A)"
      ],
      "metadata": {
        "id": "0pwtTgOIuZtz",
        "colab": {
          "base_uri": "https://localhost:8080/"
        },
        "outputId": "d8d85728-4754-4136-ae46-5058ae44c64f"
      },
      "execution_count": 2,
      "outputs": [
        {
          "output_type": "stream",
          "name": "stdout",
          "text": [
            "[[ 2  4]\n",
            " [ 1 -1]]\n"
          ]
        }
      ]
    },
    {
      "cell_type": "code",
      "source": [
        "B = np.array([[10], [-1]])\n",
        "print(B)"
      ],
      "metadata": {
        "colab": {
          "base_uri": "https://localhost:8080/"
        },
        "id": "gg4AhM61KQQS",
        "outputId": "d1d6d66d-27c5-42ac-8e5c-8b1b090718b1"
      },
      "execution_count": 3,
      "outputs": [
        {
          "output_type": "stream",
          "name": "stdout",
          "text": [
            "[[10]\n",
            " [-1]]\n"
          ]
        }
      ]
    },
    {
      "cell_type": "code",
      "source": [
        "A_inv = np.linalg.inv(A)\n",
        "X = np.dot(A_inv, B)\n",
        "X"
      ],
      "metadata": {
        "colab": {
          "base_uri": "https://localhost:8080/"
        },
        "id": "2b0c9wG8KZ_b",
        "outputId": "99a90b88-b30f-431b-ea0c-10cc0483c511"
      },
      "execution_count": 4,
      "outputs": [
        {
          "output_type": "execute_result",
          "data": {
            "text/plain": [
              "array([[1.],\n",
              "       [2.]])"
            ]
          },
          "metadata": {},
          "execution_count": 4
        }
      ]
    },
    {
      "cell_type": "code",
      "source": [
        "X.shape"
      ],
      "metadata": {
        "colab": {
          "base_uri": "https://localhost:8080/"
        },
        "id": "jERknHaFKuSD",
        "outputId": "f2557167-5a79-4b44-ee57-cbe52f9a55d0"
      },
      "execution_count": 5,
      "outputs": [
        {
          "output_type": "execute_result",
          "data": {
            "text/plain": [
              "(2, 1)"
            ]
          },
          "metadata": {},
          "execution_count": 5
        }
      ]
    },
    {
      "cell_type": "code",
      "source": [],
      "metadata": {
        "id": "q6SMABqzLBQi"
      },
      "execution_count": null,
      "outputs": []
    }
  ]
}